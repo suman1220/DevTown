{
 "cells": [
  {
   "cell_type": "markdown",
   "id": "298246ae",
   "metadata": {},
   "source": [
    "###  Handling Missing Values"
   ]
  },
  {
   "cell_type": "code",
   "execution_count": null,
   "id": "fd3544d2",
   "metadata": {},
   "outputs": [],
   "source": [
    "import pandas as pd\n",
    "\n",
    "# Load the dataset\n",
    "df = pd.read_csv('your_dataset.csv')\n",
    "\n",
    "# Check for missing values\n",
    "print(df.isnull().sum())\n",
    "\n",
    "# Remove rows with missing values\n",
    "df = df.dropna()\n",
    "\n",
    "# Fill missing values with mean\n",
    "df = df.fillna(df.mean())\n",
    "\n",
    "# Fill missing values with median\n",
    "df = df.fillna(df.median())\n",
    "\n",
    "# Forward fill missing values\n",
    "df = df.ffill()\n",
    "\n",
    "# Backward fill missing values\n",
    "df = df.bfill()\n"
   ]
  },
  {
   "cell_type": "code",
   "execution_count": null,
   "id": "90edaba5",
   "metadata": {},
   "outputs": [],
   "source": [
    "In the above code snippet, we first load the dataset using pd.read_csv() function. \n",
    "Then, we use the isnull().sum() method to check the number of missing values in each column.\n",
    "\n",
    "Next, we demonstrate a few common techniques for handling missing data:\n",
    "\n",
    "Removing rows with missing values: df.dropna() will drop all rows that contain any missing values.\n",
    "Filling missing values with mean or median: df.fillna(df.mean()) fills missing values with the \n",
    "mean value of each column, while df.fillna(df.median()) fills missing values with the median\n",
    "value of each column.\n",
    "Forward filling and backward filling: df.ffill() fills missing values with the previous non-missing\n",
    "value in the column (forward fill), while df.bfill() fills missing values with the next non-missing\n",
    "value in the column (backward fill).\n",
    "You can choose the appropriate method(s) based on your dataset and the nature of missing data. \n",
    "Remember to adapt the code to match the specific dataset and column names in your case.\n",
    "\n",
    "\n",
    "\n",
    "\n"
   ]
  }
 ],
 "metadata": {
  "kernelspec": {
   "display_name": "Python 3 (ipykernel)",
   "language": "python",
   "name": "python3"
  },
  "language_info": {
   "codemirror_mode": {
    "name": "ipython",
    "version": 3
   },
   "file_extension": ".py",
   "mimetype": "text/x-python",
   "name": "python",
   "nbconvert_exporter": "python",
   "pygments_lexer": "ipython3",
   "version": "3.9.12"
  }
 },
 "nbformat": 4,
 "nbformat_minor": 5
}
